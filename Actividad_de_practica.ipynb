{
  "nbformat": 4,
  "nbformat_minor": 0,
  "metadata": {
    "colab": {
      "provenance": [],
      "authorship_tag": "ABX9TyMF1xlfb9Q4U1ZMqbPoi5Hy",
      "include_colab_link": true
    },
    "kernelspec": {
      "name": "python3",
      "display_name": "Python 3"
    },
    "language_info": {
      "name": "python"
    }
  },
  "cells": [
    {
      "cell_type": "markdown",
      "metadata": {
        "id": "view-in-github",
        "colab_type": "text"
      },
      "source": [
        "<a href=\"https://colab.research.google.com/github/santiagoIbarraM/Evaluaciones_python_aplicado_a_la_ingenieria/blob/main/Actividad_de_practica.ipynb\" target=\"_parent\"><img src=\"https://colab.research.google.com/assets/colab-badge.svg\" alt=\"Open In Colab\"/></a>"
      ]
    },
    {
      "cell_type": "markdown",
      "source": [
        "# Python aplicado a la ingenieria\n",
        "\n",
        "**Docente:** Miguel Ortiz\n",
        "\n",
        "**Estudiante:** Santiago Ibarra Mendez\n",
        "\n",
        "**email:** santiago.ibarra@upb.edu.co\n",
        "\n",
        "**Fecha:** 21/07/2025"
      ],
      "metadata": {
        "id": "Kq7FIr1WUldK"
      }
    },
    {
      "cell_type": "code",
      "execution_count": 1,
      "metadata": {
        "colab": {
          "base_uri": "https://localhost:8080/"
        },
        "id": "s7lREIuiUi_4",
        "outputId": "5f77e42d-b2da-40c5-d1d1-9a845851b5b0"
      },
      "outputs": [
        {
          "output_type": "stream",
          "name": "stdout",
          "text": [
            " bebe yo puedo encenderte suave hasta el amanecer sin compromiso\n"
          ]
        }
      ],
      "source": [
        "import random\n",
        "\n",
        "palabras1= [\"mami\",\"bebe\",\"princess\",\"mami\"]\n",
        "palabras2=[\"yo quiero\",\"yo puedo\",\"yo vengo a\",\"voy a\"]\n",
        "palabras3=[\"encenderte\",\"amarte\",\"ligar\",\"jugar\"]\n",
        "palabras4=[\"suave\",\"lento\",\"rapido\",\"fuerte\"]\n",
        "palabras5=[\"hasta que salga el sol\",\"toda la noche\",\"hasta el amanecer\",\"todo el dia\"]\n",
        "palabras6= [\"sin anestesia\",\"sin compromiso\",\"feis to feis\",\"sin miedo\"]\n",
        "\n",
        "\n",
        "elementos=[palabras1,palabras2,palabras3,palabras4,palabras5,palabras6]\n",
        "\n",
        "frase = ''\n",
        "for i in elementos:\n",
        "    numero=random.randint(0,3)\n",
        "    frase += \" \"+i[numero]\n",
        "\n",
        "print(frase)\n"
      ]
    }
  ]
}