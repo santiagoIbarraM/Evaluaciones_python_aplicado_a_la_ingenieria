{
  "nbformat": 4,
  "nbformat_minor": 0,
  "metadata": {
    "colab": {
      "provenance": [],
      "authorship_tag": "ABX9TyNKgQqYUQGwo0v9rjk9tLCY",
      "include_colab_link": true
    },
    "kernelspec": {
      "name": "python3",
      "display_name": "Python 3"
    },
    "language_info": {
      "name": "python"
    }
  },
  "cells": [
    {
      "cell_type": "markdown",
      "metadata": {
        "id": "view-in-github",
        "colab_type": "text"
      },
      "source": [
        "<a href=\"https://colab.research.google.com/github/santiagoIbarraM/Evaluaciones_python_aplicado_a_la_ingenieria/blob/main/Examen_2.ipynb\" target=\"_parent\"><img src=\"https://colab.research.google.com/assets/colab-badge.svg\" alt=\"Open In Colab\"/></a>"
      ]
    },
    {
      "cell_type": "markdown",
      "source": [
        "# Evaluacion 2: Python aplicado a la ingenieria 202520\n",
        "\n",
        "Docente: Miguel Angel Ortiz\n",
        "\n",
        "Estudiante: Santiago Ibarra\n",
        "\n",
        "Correo: Santiago.ibarra@upb.edu.co\n",
        "\n",
        "Fecha: 20 de Agosto del 2025\n"
      ],
      "metadata": {
        "id": "djFX6n4dviA5"
      }
    },
    {
      "cell_type": "markdown",
      "source": [
        "Parte 1: Clase base robot"
      ],
      "metadata": {
        "id": "QtxwT9RD0-Zq"
      }
    },
    {
      "cell_type": "code",
      "execution_count": 13,
      "metadata": {
        "id": "TdsjOsLMvZzY"
      },
      "outputs": [],
      "source": [
        "class Robot:\n",
        "    # Constructor de la clase Robot\n",
        "    def __init__(self, name, model):\n",
        "        self.name = name\n",
        "        self.model = model\n",
        "        self.battery = 100\n",
        "        self.distance_traveled = 0\n",
        "        self.speed = 0\n",
        "        self.direction = 0\n",
        "        print(f\"Robot {self.name} Modelo {self.model} creado\")\n",
        "\n",
        "# Devuelve una representación legible del estado principal del robot\n",
        "    def __str__(self):\n",
        "        return f\"{self.name} - {self.model} - Bateria: {self.battery}% - Distancia: {self.distance_traveled}km\"\n",
        "\n",
        "# Método move: mueve al robot y actualiza la velocidad, direccion, bateria\n",
        "    def move(self, speed, direction, time_minutes):\n",
        "        self.speed = speed\n",
        "        self.direction = direction\n",
        "        distance = (speed * time_minutes) / 60\n",
        "        self.distance_traveled += distance\n",
        "        self.battery -= distance *10\n",
        "        if self.battery < 20:\n",
        "            print(\"Bateria baja!\")\n",
        "\n",
        " # Método charge: recarga batería\n",
        "    def charge(self, time_minutes):\n",
        "        if self.battery<100:\n",
        "            self.battery += time_minutes * 2\n",
        "        if self.battery > 100:\n",
        "            self.battery = 100\n",
        "        print(f\"{self.name} cargando...Bateria: {self.battery}%\")\n",
        "\n",
        "# Método get_status: imprime estado detallado: batería, distancia, velocidad y dirección\n",
        "    def get_status(self):\n",
        "        print(self.__str__())\n",
        "        print(f\"Velocidad: {self.speed}km/h | Direccion: {self.direction}°\")\n"
      ]
    },
    {
      "cell_type": "markdown",
      "source": [
        "Parte 2: Herencia - Tipos de Robots"
      ],
      "metadata": {
        "id": "sHWP-TD-1FzR"
      }
    },
    {
      "cell_type": "code",
      "source": [
        "#WorkerRobot es una especialización de Robot que puede transportar carga.\n",
        "class WorkerRobot(Robot):\n",
        "    def __init__(self, name: str, model: str) -> None:\n",
        "        super().__init__(name, model)\n",
        "        self.cargo = 0.0\n",
        "\n",
        "# Método move: mueve al robot y actualiza la velocidad, direccion, bateria. En este caso especial tiene en cuenta si tiene carga\n",
        "#para consumir 20% mas de bateria\n",
        "    def move(self, speed, direction, time_minutes):\n",
        "        battery_before = self.battery\n",
        "        super().move(speed, direction, time_minutes)\n",
        "        if self.cargo > 0:\n",
        "            extra = 0.2 * (battery_before - self.battery)\n",
        "            self.battery = max(0.0, self.battery - extra)\n",
        "            if self.battery < 20:\n",
        "                print(\"Batería baja!\")\n",
        "\n",
        "#Establece la carga\n",
        "    def load_cargo(self, weight):\n",
        "        self.cargo += weight\n",
        "        print(f\"Cargando {weight}kg. Total: {self.cargo}kg\")\n",
        "\n",
        "#Elimina la carga del robot\n",
        "    def unload_cargo(self):\n",
        "        self.cargo = 0.0\n",
        "        print(\"Carga descargada\")\n",
        "\n",
        "# Muestra todos los atrubutos del robot, incluyendo la carga\n",
        "    def get_status(self):\n",
        "        super().get_status()\n",
        "        print(f\"  Carga actual: {self.cargo} kg\")\n",
        "\n",
        "\n",
        "# Clase GuardRobot hereda de Robot y añade un modo de alerta\n",
        "class GuardRobot(Robot):\n",
        "    def __init__(self, name, model):\n",
        "        super().__init__(name, model)\n",
        "        self.alert_mode = False\n",
        "\n",
        "# Sobreescribe charge: si está en alerta carga más lento\n",
        "    def charge(self, time_minutes):\n",
        "        rate = 1.0 if self.alert_mode else 2.0\n",
        "        self.battery = min(100.0, self.battery + time_minutes * rate)\n",
        "        print(f\"{self.name} cargando... Batería: {round(self.battery,2)}%\")\n",
        "\n",
        "\n",
        "# Alterna entre activar o desactivar el modo alerta\n",
        "    def toggle_alert(self):\n",
        "        self.alert_mode = not self.alert_mode\n",
        "        print(f\"Modo alerta: {'ON' if self.alert_mode else 'OFF'}\")\n",
        "\n",
        "# Estado extendido: además de lo básico, muestra si está en alerta\n",
        "    def get_status(self):\n",
        "        super().get_status()\n",
        "        print(f\"  Modo alerta: {'ON' if self.alert_mode else 'OFF'}\")\n"
      ],
      "metadata": {
        "id": "qZ8fHiTv1NCm"
      },
      "execution_count": 14,
      "outputs": []
    },
    {
      "cell_type": "markdown",
      "source": [
        "Parte 3: Composicion - Clase RobotTeam"
      ],
      "metadata": {
        "id": "gEpXBf1c6qJy"
      }
    },
    {
      "cell_type": "code",
      "source": [
        "# Clase RobotTeam implementa composición: un equipo de robots\n",
        "class RobotTeam:\n",
        "    def __init__(self, team_name):\n",
        "        self.team_name = team_name\n",
        "        self.robots = []\n",
        "        self.missions_completed = 0\n",
        "        print(f\"Equipo {self.team_name} formado\")\n",
        "\n",
        "# Agregar un robot al equipo\n",
        "    def add_robot(self, robot):\n",
        "        self.robots.append(robot)\n",
        "        print(f\"{robot.name} se unió al equipo {self.team_name}\")\n",
        "\n",
        " # Permite usar len(equipo) para saber cuántos robots tiene\n",
        "    def __len__(self):\n",
        "        return len(self.robots)\n",
        "\n",
        "# Cargar la batería de todos los robots del equipo a la vez\n",
        "    def charge_all(self, time_minutes):\n",
        "        for r in self.robots:\n",
        "            r.charge(time_minutes)\n",
        "# Mostrar estado completo del equipo y de cada robot\n",
        "    def team_status(self):\n",
        "        print(f\"\\n--- Estado del equipo {self.team_name} ---\")\n",
        "        for r in self.robots:\n",
        "            r.get_status()\n",
        "        print(f\"Total de robots: {len(self)} | Misiones completadas: {self.missions_completed}\")\n",
        "        print(f\"--- Fin estado del equipo {self.team_name} ---\\n\")\n",
        "\n",
        "# Incrementar el contador de misiones completadas\n",
        "    def complete_mission(self):\n",
        "        self.missions_completed += 1\n",
        "        print(f\"¡Misión completada! Total: {self.missions_completed}\")"
      ],
      "metadata": {
        "id": "YqqOaFHF6xWL"
      },
      "execution_count": 10,
      "outputs": []
    },
    {
      "cell_type": "markdown",
      "source": [
        "Parte 4: Codigo de prueba"
      ],
      "metadata": {
        "id": "4esVeIBP7o9k"
      }
    },
    {
      "cell_type": "code",
      "source": [
        "# Crear robots\n",
        "r1 = Robot(\"Atlas\", \"A1\")\n",
        "r2 = Robot(\"Spot\", \"S2\")\n",
        "w1 = WorkerRobot(\"Carga\", \"W1\")\n",
        "g1 = GuardRobot(\"Vigilante\", \"G1\")\n",
        "\n",
        "# Movimientos\n",
        "r1.move(5, 90, 30)\n",
        "r2.move(10, 180, 15)\n",
        "w1.load_cargo(20)\n",
        "w1.move(8, 45, 60)\n",
        "g1.toggle_alert()\n",
        "g1.move(12, 270, 20)\n",
        "\n",
        "# Cargas\n",
        "r1.charge(20)\n",
        "r2.charge(10)\n",
        "w1.charge(30)\n",
        "g1.charge(30)\n",
        "\n",
        "# Estados\n",
        "r1.get_status()\n",
        "r2.get_status()\n",
        "w1.get_status()\n",
        "g1.get_status()\n",
        "\n",
        "# Funciones especiales\n",
        "w1.unload_cargo()\n",
        "g1.toggle_alert()\n",
        "g1.charge(10)\n",
        "\n",
        "# Equipo\n",
        "team = RobotTeam(\"Alpha\")\n",
        "team.add_robot(r1)\n",
        "team.add_robot(r2)\n",
        "team.add_robot(w1)\n",
        "team.add_robot(g1)\n",
        "print(f\"Robots en el equipo: {len(team)}\")\n",
        "\n",
        "team.charge_all(15)\n",
        "team.team_status()\n",
        "team.complete_mission()"
      ],
      "metadata": {
        "colab": {
          "base_uri": "https://localhost:8080/"
        },
        "id": "USJuvvIE741y",
        "outputId": "948a1544-d938-47b9-c4fe-9e29fdf8e157"
      },
      "execution_count": 15,
      "outputs": [
        {
          "output_type": "stream",
          "name": "stdout",
          "text": [
            "Robot Atlas Modelo A1 creado\n",
            "Robot Spot Modelo S2 creado\n",
            "Robot Carga Modelo W1 creado\n",
            "Robot Vigilante Modelo G1 creado\n",
            "Cargando 20kg. Total: 20.0kg\n",
            "Batería baja!\n",
            "Modo alerta: ON\n",
            "Atlas cargando...Bateria: 100%\n",
            "Spot cargando...Bateria: 95.0%\n",
            "Carga cargando...Bateria: 64.0%\n",
            "Vigilante cargando... Batería: 90.0%\n",
            "Atlas - A1 - Bateria: 100% - Distancia: 2.5km\n",
            "Velocidad: 5km/h | Direccion: 90°\n",
            "Spot - S2 - Bateria: 95.0% - Distancia: 2.5km\n",
            "Velocidad: 10km/h | Direccion: 180°\n",
            "Carga - W1 - Bateria: 64.0% - Distancia: 8.0km\n",
            "Velocidad: 8km/h | Direccion: 45°\n",
            "  Carga actual: 20.0 kg\n",
            "Vigilante - G1 - Bateria: 90.0% - Distancia: 4.0km\n",
            "Velocidad: 12km/h | Direccion: 270°\n",
            "  Modo alerta: ON\n",
            "Carga descargada\n",
            "Modo alerta: OFF\n",
            "Vigilante cargando... Batería: 100.0%\n",
            "Equipo Alpha formado\n",
            "Atlas se unió al equipo Alpha\n",
            "Spot se unió al equipo Alpha\n",
            "Carga se unió al equipo Alpha\n",
            "Vigilante se unió al equipo Alpha\n",
            "Robots en el equipo: 4\n",
            "Atlas cargando...Bateria: 100%\n",
            "Spot cargando...Bateria: 100%\n",
            "Carga cargando...Bateria: 94.0%\n",
            "Vigilante cargando... Batería: 100.0%\n",
            "\n",
            "--- Estado del equipo Alpha ---\n",
            "Atlas - A1 - Bateria: 100% - Distancia: 2.5km\n",
            "Velocidad: 5km/h | Direccion: 90°\n",
            "Spot - S2 - Bateria: 100% - Distancia: 2.5km\n",
            "Velocidad: 10km/h | Direccion: 180°\n",
            "Carga - W1 - Bateria: 94.0% - Distancia: 8.0km\n",
            "Velocidad: 8km/h | Direccion: 45°\n",
            "  Carga actual: 0.0 kg\n",
            "Vigilante - G1 - Bateria: 100.0% - Distancia: 4.0km\n",
            "Velocidad: 12km/h | Direccion: 270°\n",
            "  Modo alerta: OFF\n",
            "Total de robots: 4 | Misiones completadas: 0\n",
            "--- Fin estado del equipo Alpha ---\n",
            "\n",
            "¡Misión completada! Total: 1\n"
          ]
        }
      ]
    }
  ]
}