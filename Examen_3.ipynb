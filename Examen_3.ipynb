{
  "nbformat": 4,
  "nbformat_minor": 0,
  "metadata": {
    "colab": {
      "provenance": [],
      "authorship_tag": "ABX9TyP7yshlgopz8zrtQ/NbXbn0",
      "include_colab_link": true
    },
    "kernelspec": {
      "name": "python3",
      "display_name": "Python 3"
    },
    "language_info": {
      "name": "python"
    }
  },
  "cells": [
    {
      "cell_type": "markdown",
      "metadata": {
        "id": "view-in-github",
        "colab_type": "text"
      },
      "source": [
        "<a href=\"https://colab.research.google.com/github/santiagoIbarraM/Evaluaciones_python_aplicado_a_la_ingenieria/blob/main/Examen_3.ipynb\" target=\"_parent\"><img src=\"https://colab.research.google.com/assets/colab-badge.svg\" alt=\"Open In Colab\"/></a>"
      ]
    },
    {
      "cell_type": "markdown",
      "source": [
        "Evaluacion 3\n",
        "Python aplicado a la ingenieria 202520\n",
        "\n",
        "Docente: Miguel Angel Ortiz\n",
        "\n",
        "Estudiante: Santiago Ibarra\n",
        "\n",
        "Correo: Santiago.ibarra@upb.edu.co\n",
        "\n",
        "Fecha: 10 de Septiembre del 2025\n"
      ],
      "metadata": {
        "id": "VwauaScaNxG5"
      }
    },
    {
      "cell_type": "code",
      "execution_count": 15,
      "metadata": {
        "id": "26nY4SA850So",
        "colab": {
          "base_uri": "https://localhost:8080/"
        },
        "outputId": "59bfb58b-6437-4522-8459-ab302f6e7db0"
      },
      "outputs": [
        {
          "output_type": "stream",
          "name": "stdout",
          "text": [
            "(8785, 6)\n",
            "Filas: 8785\n",
            "Columnas: 6\n",
            "[[2.024e+03 1.000e+00 1.000e+00 0.000e+00 2.730e+01 0.000e+00]\n",
            " [2.024e+03 1.000e+00 1.000e+00 1.000e+00 2.680e+01 0.000e+00]\n",
            " [2.024e+03 1.000e+00 1.000e+00 2.000e+00 2.640e+01 0.000e+00]\n",
            " [2.024e+03 1.000e+00 1.000e+00 3.000e+00 2.610e+01 0.000e+00]\n",
            " [2.024e+03 1.000e+00 1.000e+00 4.000e+00 2.590e+01 0.000e+00]\n",
            " [2.024e+03 1.000e+00 1.000e+00 5.000e+00 2.560e+01 0.000e+00]\n",
            " [2.024e+03 1.000e+00 1.000e+00 6.000e+00 2.540e+01 0.000e+00]\n",
            " [2.024e+03 1.000e+00 1.000e+00 7.000e+00 2.520e+01 0.000e+00]\n",
            " [2.024e+03 1.000e+00 1.000e+00 8.000e+00 2.510e+01 0.000e+00]\n",
            " [2.024e+03 1.000e+00 1.000e+00 9.000e+00 2.490e+01 0.000e+00]\n",
            " [2.024e+03 1.000e+00 1.000e+00 1.000e+01 2.490e+01 0.000e+00]\n",
            " [2.024e+03 1.000e+00 1.000e+00 1.100e+01 2.550e+01 0.000e+00]\n",
            " [2.024e+03 1.000e+00 1.000e+00 1.200e+01 2.740e+01 8.000e+01]\n",
            " [2.024e+03 1.000e+00 1.000e+00 1.300e+01 2.940e+01 2.970e+02]\n",
            " [2.024e+03 1.000e+00 1.000e+00 1.400e+01 3.140e+01 4.680e+02]\n",
            " [2.024e+03 1.000e+00 1.000e+00 1.500e+01 3.330e+01 6.070e+02]\n",
            " [2.024e+03 1.000e+00 1.000e+00 1.600e+01 3.460e+01 6.270e+02]\n",
            " [2.024e+03 1.000e+00 1.000e+00 1.700e+01 3.520e+01 4.900e+02]\n",
            " [2.024e+03 1.000e+00 1.000e+00 1.800e+01 3.520e+01 4.530e+02]\n",
            " [2.024e+03 1.000e+00 1.000e+00 1.900e+01 3.440e+01 4.540e+02]\n",
            " [2.024e+03 1.000e+00 1.000e+00 2.000e+01 3.290e+01 5.310e+02]\n",
            " [2.024e+03 1.000e+00 1.000e+00 2.100e+01 3.120e+01 3.050e+02]\n",
            " [2.024e+03 1.000e+00 1.000e+00 2.200e+01 2.900e+01 1.410e+02]\n",
            " [2.024e+03 1.000e+00 1.000e+00 2.300e+01 2.780e+01 0.000e+00]]\n",
            "Los datos corresponden al año: 2024, mes: 1, día: 1\n",
            "Registros encontrados: 24\n"
          ]
        }
      ],
      "source": [
        "import numpy as np\n",
        "\n",
        "data = np.genfromtxt('/GHI_Temp_Daily_Hourly_2024.csv', delimiter=';', skip_header=True)\n",
        "print(data.shape)\n",
        "\n",
        "print(f\"Filas: {data.shape[0]}\")\n",
        "print(f\"Columnas: {data.shape[1]}\")\n",
        "\n",
        "#El archivo tiene 8785 filas y 3 columnas\n",
        "#Las filas representan datos de GHI y temperatura en tiempos determinados\n",
        "\n",
        "year=2024\n",
        "month= 1\n",
        "day = 1\n",
        "\n",
        "filtered_data= data[(data[:,0] == year) & (data[:,1] == month) & (data[:,2] == day)]\n",
        "print(filtered_data)\n",
        "\n",
        "print(f\"Los datos corresponden al año: {year}, mes: {month}, día: {day}\")\n",
        "print(f\"Registros encontrados: {len(filtered_data)}\")"
      ]
    },
    {
      "cell_type": "code",
      "source": [
        "def filter_data_by_date(filepath:str, year:int, month:int, day:int):\n",
        "    try:\n",
        "        data = np.genfromtxt(filepath, delimiter=';', skip_header=True)\n",
        "        filtered_data = data[(data[:,0] == year) & (data[:,1] == month) & (data[:,2] == day)]\n",
        "        if len(filtered_data) == 0:\n",
        "            print(f\"No se encontraron datos para la fecha: {year}-{month}-{day}\")\n",
        "            return\n",
        "        filename = f\"filtered_data_{year}_{month:02d}_{day:02d}.csv\"\n",
        "        with open(filename, 'w') as f:\n",
        "            f.write(\"Year;Month;Day;Hour;Temperature;GHI\\n\")\n",
        "            for row in filtered_data:\n",
        "                f.write(f\"{int(row[0])};{int(row[1])};{int(row[2])};{int(row[3])};{row[4]};{row[5]:.2f}\\n\")\n",
        "        print(\"Datos filtrados guardados en:\", filename)\n",
        "        print(f\"Se registraron {len(filtered_data)} registros.\")\n",
        "        temperature_mean = np.mean(filtered_data[:,4])\n",
        "        temperature_max = np.max(filtered_data[:,4])\n",
        "        ghi_mean = np.mean(filtered_data[:,5])\n",
        "        ghi_max = np.max(filtered_data[:,5])\n",
        "        print(f\"Temperatura promedio: {temperature_mean:.2f} °C\")\n",
        "        print(f\"Temperatura máxima: {temperature_max:.2f} °C\")\n",
        "        print(f\"GHI promedio: {ghi_mean:.2f} W/m²\")\n",
        "        print(f\"GHI máxima: {ghi_max:.2f} W/m²\")\n",
        "\n",
        "    except FileNotFoundError:\n",
        "        print(\"El archivo no se encontró:\", filepath)\n",
        "    except IndexError:\n",
        "        print(\"Error al procesar los datos. Verifique el formato del archivo.\")\n",
        "    except Exception as e:\n",
        "        print(\"Ocurrió un error:\", str(e))\n",
        "\n",
        "\n",
        "filter_data_by_date('/GHI_Temp_Daily_Hourly_2024.csv', 2024, 1, 1)"
      ],
      "metadata": {
        "colab": {
          "base_uri": "https://localhost:8080/"
        },
        "id": "xoh1LRcqFLiY",
        "outputId": "a890311d-155c-4db5-a8d8-077913fcafb4"
      },
      "execution_count": 16,
      "outputs": [
        {
          "output_type": "stream",
          "name": "stdout",
          "text": [
            "Datos filtrados guardados en: filtered_data_2024_01_01.csv\n",
            "Se registraron 24 registros.\n",
            "Temperatura promedio: 28.79 °C\n",
            "Temperatura máxima: 35.20 °C\n",
            "GHI promedio: 185.54 W/m²\n",
            "GHI máxima: 627.00 W/m²\n"
          ]
        }
      ]
    },
    {
      "cell_type": "code",
      "source": [
        "if __name__ == \"__main__\":\n",
        "\n",
        "    #filter_data_by_date('GHI_Temp_Daily_Hourly_2024.csv', 2024, 1, 1)\n",
        "    #filter_data_by_date('GHI_Temp_Daily_Hourly_2024.csv', 2024, 2, 30)\n",
        "    #filter_data_by_date('GHI_Temp_Daily_Hourly_2022.csv', 2022, 1, 1)\n",
        "    #filter_data_by_date('GHI_Temp_Daily_Hourly_2024.csv', 2024, 1, 2)\n",
        "\n",
        "    filter_data_by_date('/GHI_Temp_Daily_Hourly_2024.csv', 2024, 1, 1)\n",
        "    ghi_temp_data = np.genfromtxt('filtered_data_2024_01_01.csv', delimiter=';', skip_header=True)\n",
        "    print(ghi_temp_data)\n",
        "    print(len(ghi_temp_data))\n",
        "\n",
        "    hours = ghi_temp_data[:,3]\n",
        "    temperature = ghi_temp_data[:,4]\n",
        "    ghi = ghi_temp_data[:,5]\n",
        "    print(\"Horas:\", hours)\n",
        "    print(\"Temperaturas (°C):\", temperature)\n",
        "    print(\"GHI (W/m²):\", ghi)\n",
        "\n",
        "    stc_temp = 25\n",
        "    temp_coeff = -0.004\n",
        "    panel_area = 1.65\n",
        "    panel_efficiency = 0.2\n",
        "    n_panels = 10\n",
        "    total_area = panel_area * n_panels\n",
        "    inverter_efficiency = 0.95\n",
        "\n",
        "    temp_correction = 1 + temp_coeff * (ghi_temp_data[:,4] - stc_temp)\n",
        "    dc_power = ghi_temp_data[:,5] * total_area * panel_efficiency * temp_correction\n",
        "    ac_power = dc_power * inverter_efficiency\n",
        "    print(\"Potencia AC generada (W):\", ac_power)\n",
        "    print(\"Potencia DC generada (W):\", dc_power)\n",
        "\n",
        "    hourly_energy_kwh = ac_power / 1000\n",
        "    total_daily_energy_kwh = np.sum(hourly_energy_kwh)\n",
        "    filename = f\"energy_data_{year}_{month:02d}_{day:02d}.csv\"\n",
        "\n",
        "# Crear archivo CSV\n",
        "with open(filename, \"w\") as datafile:\n",
        "    datafile.write(\"Hour,Power_DC,Power_AC,Energy_kWh\\n\")\n",
        "    # Escribir los registros\n",
        "    for i in range(len(hours)):\n",
        "        datafile.write(\n",
        "            f\"{hours[i]},{dc_power[i]:.2f},{ac_power[i]:.2f},{hourly_energy_kwh[i]:.2f}\\n\"\n",
        "        )\n",
        "    print(f\"Archivo '{filename}' creado con {len(hours)} registros.\")\n",
        "    print(f\"Potencia promedio DC: {np.mean(dc_power):.2f} W\")\n",
        "    print(f\"Potencia promedio AC: {np.mean(ac_power):.2f} W\")\n",
        "    print(f\"Energía total producida: {np.sum(hourly_energy_kwh):.2f} kWh\")"
      ],
      "metadata": {
        "colab": {
          "base_uri": "https://localhost:8080/"
        },
        "id": "Lo2W9lFAF_UF",
        "outputId": "f2cba5af-4b66-4a08-c9c1-b26aa9e74746"
      },
      "execution_count": 17,
      "outputs": [
        {
          "output_type": "stream",
          "name": "stdout",
          "text": [
            "Datos filtrados guardados en: filtered_data_2024_01_01.csv\n",
            "Se registraron 24 registros.\n",
            "Temperatura promedio: 28.79 °C\n",
            "Temperatura máxima: 35.20 °C\n",
            "GHI promedio: 185.54 W/m²\n",
            "GHI máxima: 627.00 W/m²\n",
            "[[2.024e+03 1.000e+00 1.000e+00 0.000e+00 2.730e+01 0.000e+00]\n",
            " [2.024e+03 1.000e+00 1.000e+00 1.000e+00 2.680e+01 0.000e+00]\n",
            " [2.024e+03 1.000e+00 1.000e+00 2.000e+00 2.640e+01 0.000e+00]\n",
            " [2.024e+03 1.000e+00 1.000e+00 3.000e+00 2.610e+01 0.000e+00]\n",
            " [2.024e+03 1.000e+00 1.000e+00 4.000e+00 2.590e+01 0.000e+00]\n",
            " [2.024e+03 1.000e+00 1.000e+00 5.000e+00 2.560e+01 0.000e+00]\n",
            " [2.024e+03 1.000e+00 1.000e+00 6.000e+00 2.540e+01 0.000e+00]\n",
            " [2.024e+03 1.000e+00 1.000e+00 7.000e+00 2.520e+01 0.000e+00]\n",
            " [2.024e+03 1.000e+00 1.000e+00 8.000e+00 2.510e+01 0.000e+00]\n",
            " [2.024e+03 1.000e+00 1.000e+00 9.000e+00 2.490e+01 0.000e+00]\n",
            " [2.024e+03 1.000e+00 1.000e+00 1.000e+01 2.490e+01 0.000e+00]\n",
            " [2.024e+03 1.000e+00 1.000e+00 1.100e+01 2.550e+01 0.000e+00]\n",
            " [2.024e+03 1.000e+00 1.000e+00 1.200e+01 2.740e+01 8.000e+01]\n",
            " [2.024e+03 1.000e+00 1.000e+00 1.300e+01 2.940e+01 2.970e+02]\n",
            " [2.024e+03 1.000e+00 1.000e+00 1.400e+01 3.140e+01 4.680e+02]\n",
            " [2.024e+03 1.000e+00 1.000e+00 1.500e+01 3.330e+01 6.070e+02]\n",
            " [2.024e+03 1.000e+00 1.000e+00 1.600e+01 3.460e+01 6.270e+02]\n",
            " [2.024e+03 1.000e+00 1.000e+00 1.700e+01 3.520e+01 4.900e+02]\n",
            " [2.024e+03 1.000e+00 1.000e+00 1.800e+01 3.520e+01 4.530e+02]\n",
            " [2.024e+03 1.000e+00 1.000e+00 1.900e+01 3.440e+01 4.540e+02]\n",
            " [2.024e+03 1.000e+00 1.000e+00 2.000e+01 3.290e+01 5.310e+02]\n",
            " [2.024e+03 1.000e+00 1.000e+00 2.100e+01 3.120e+01 3.050e+02]\n",
            " [2.024e+03 1.000e+00 1.000e+00 2.200e+01 2.900e+01 1.410e+02]\n",
            " [2.024e+03 1.000e+00 1.000e+00 2.300e+01 2.780e+01 0.000e+00]]\n",
            "24\n",
            "Horas: [ 0.  1.  2.  3.  4.  5.  6.  7.  8.  9. 10. 11. 12. 13. 14. 15. 16. 17.\n",
            " 18. 19. 20. 21. 22. 23.]\n",
            "Temperaturas (°C): [27.3 26.8 26.4 26.1 25.9 25.6 25.4 25.2 25.1 24.9 24.9 25.5 27.4 29.4\n",
            " 31.4 33.3 34.6 35.2 35.2 34.4 32.9 31.2 29.  27.8]\n",
            "GHI (W/m²): [  0.   0.   0.   0.   0.   0.   0.   0.   0.   0.   0.   0.  80. 297.\n",
            " 468. 607. 627. 490. 453. 454. 531. 305. 141.   0.]\n",
            "Potencia AC generada (W): [   0.          0.          0.          0.          0.          0.\n",
            "    0.          0.          0.          0.          0.          0.\n",
            "  248.39232   914.707728 1429.620192 1839.767226 1890.164232 1473.47508\n",
            " 1362.212676 1369.774296 1612.080954  932.46186   434.96244     0.      ]\n",
            "Potencia DC generada (W): [   0.         0.         0.         0.         0.         0.\n",
            "    0.         0.         0.         0.         0.         0.\n",
            "  261.4656   962.85024 1504.86336 1936.59708 1989.64656 1551.0264\n",
            " 1433.90808 1441.86768 1696.92732  981.5388   457.8552     0.     ]\n",
            "Archivo 'energy_data_2024_01_01.csv' creado con 24 registros.\n",
            "Potencia promedio DC: 592.44 W\n",
            "Potencia promedio AC: 562.82 W\n",
            "Energía total producida: 13.51 kWh\n"
          ]
        }
      ]
    },
    {
      "cell_type": "code",
      "source": [
        "\n",
        "def energy_calculations(filepath:str, year:int, month:int, day:int, n_panels:int,panel_area:float, panel_efficiency:float,\n",
        "                        inverter_efficiency:float,stc_temp:float=25, temp_coeff:float=-0.004):\n",
        "\n",
        "    filter_data_by_date(filepath, year, month, day)\n",
        "    ghi_temp_data = np.genfromtxt('filtered_data_2024_01_01.csv', delimiter=';', skip_header=True)\n",
        "    print(ghi_temp_data)\n",
        "    print(len(ghi_temp_data))\n",
        "\n",
        "    hours = ghi_temp_data[:,3]\n",
        "    temperature = ghi_temp_data[:,4]\n",
        "    ghi = ghi_temp_data[:,5]\n",
        "    print(\"Horas:\", hours)\n",
        "    print(\"Temperaturas (°C):\", temperature)\n",
        "    print(\"GHI (W/m²):\", ghi)\n",
        "\n",
        "    temp_correction = 1 + temp_coeff * (ghi_temp_data[:,4] - stc_temp)\n",
        "    dc_power = ghi_temp_data[:,5] * total_area * panel_efficiency * temp_correction\n",
        "    ac_power = dc_power * inverter_efficiency\n",
        "    print(\"Potencia AC generada (W):\", ac_power)\n",
        "    print(\"Potencia DC generada (W):\", dc_power)\n",
        "\n",
        "    hourly_energy_kwh = ac_power / 1000\n",
        "    total_daily_energy_kwh = np.sum(hourly_energy_kwh)\n",
        "    filename = f\"energy_data_{year}_{month:02d}_{day:02d}.csv\"\n",
        "\n",
        "# Crear archivo CSV\n",
        "with open(filename, \"w\") as datafile:\n",
        "    datafile.write(\"Hour,Power_DC,Power_AC,Energy_kWh\\n\")\n",
        "    # Escribir los registros\n",
        "    for i in range(len(hours)):\n",
        "        datafile.write(\n",
        "            f\"{hours[i]},{dc_power[i]:.2f},{ac_power[i]:.2f},{hourly_energy_kwh[i]:.2f}\\n\"\n",
        "        )\n",
        "    print(f\"Archivo '{filename}' creado con {len(hours)} registros.\")\n",
        "    print(f\"Potencia promedio DC: {np.mean(dc_power):.2f} W\")\n",
        "    print(f\"Potencia promedio AC: {np.mean(ac_power):.2f} W\")\n",
        "    print(f\"Energía total producida: {np.sum(hourly_energy_kwh):.2f} kWh\")\n",
        "\n",
        "\n",
        "energy_calculations('GHI_Temp_Daily_Hourly_2024.csv', 2024, 12, 11, 10, 1.65, 0.2, 0.95)"
      ],
      "metadata": {
        "id": "uKX83GyfGgBi",
        "outputId": "30037fde-777b-49b6-d74f-7411e907d26f",
        "colab": {
          "base_uri": "https://localhost:8080/"
        }
      },
      "execution_count": 18,
      "outputs": [
        {
          "output_type": "stream",
          "name": "stdout",
          "text": [
            "Archivo 'energy_data_2024_01_01.csv' creado con 24 registros.\n",
            "Potencia promedio DC: 592.44 W\n",
            "Potencia promedio AC: 562.82 W\n",
            "Energía total producida: 13.51 kWh\n",
            "El archivo no se encontró: GHI_Temp_Daily_Hourly_2024.csv\n",
            "[[2.024e+03 1.000e+00 1.000e+00 0.000e+00 2.730e+01 0.000e+00]\n",
            " [2.024e+03 1.000e+00 1.000e+00 1.000e+00 2.680e+01 0.000e+00]\n",
            " [2.024e+03 1.000e+00 1.000e+00 2.000e+00 2.640e+01 0.000e+00]\n",
            " [2.024e+03 1.000e+00 1.000e+00 3.000e+00 2.610e+01 0.000e+00]\n",
            " [2.024e+03 1.000e+00 1.000e+00 4.000e+00 2.590e+01 0.000e+00]\n",
            " [2.024e+03 1.000e+00 1.000e+00 5.000e+00 2.560e+01 0.000e+00]\n",
            " [2.024e+03 1.000e+00 1.000e+00 6.000e+00 2.540e+01 0.000e+00]\n",
            " [2.024e+03 1.000e+00 1.000e+00 7.000e+00 2.520e+01 0.000e+00]\n",
            " [2.024e+03 1.000e+00 1.000e+00 8.000e+00 2.510e+01 0.000e+00]\n",
            " [2.024e+03 1.000e+00 1.000e+00 9.000e+00 2.490e+01 0.000e+00]\n",
            " [2.024e+03 1.000e+00 1.000e+00 1.000e+01 2.490e+01 0.000e+00]\n",
            " [2.024e+03 1.000e+00 1.000e+00 1.100e+01 2.550e+01 0.000e+00]\n",
            " [2.024e+03 1.000e+00 1.000e+00 1.200e+01 2.740e+01 8.000e+01]\n",
            " [2.024e+03 1.000e+00 1.000e+00 1.300e+01 2.940e+01 2.970e+02]\n",
            " [2.024e+03 1.000e+00 1.000e+00 1.400e+01 3.140e+01 4.680e+02]\n",
            " [2.024e+03 1.000e+00 1.000e+00 1.500e+01 3.330e+01 6.070e+02]\n",
            " [2.024e+03 1.000e+00 1.000e+00 1.600e+01 3.460e+01 6.270e+02]\n",
            " [2.024e+03 1.000e+00 1.000e+00 1.700e+01 3.520e+01 4.900e+02]\n",
            " [2.024e+03 1.000e+00 1.000e+00 1.800e+01 3.520e+01 4.530e+02]\n",
            " [2.024e+03 1.000e+00 1.000e+00 1.900e+01 3.440e+01 4.540e+02]\n",
            " [2.024e+03 1.000e+00 1.000e+00 2.000e+01 3.290e+01 5.310e+02]\n",
            " [2.024e+03 1.000e+00 1.000e+00 2.100e+01 3.120e+01 3.050e+02]\n",
            " [2.024e+03 1.000e+00 1.000e+00 2.200e+01 2.900e+01 1.410e+02]\n",
            " [2.024e+03 1.000e+00 1.000e+00 2.300e+01 2.780e+01 0.000e+00]]\n",
            "24\n",
            "Horas: [ 0.  1.  2.  3.  4.  5.  6.  7.  8.  9. 10. 11. 12. 13. 14. 15. 16. 17.\n",
            " 18. 19. 20. 21. 22. 23.]\n",
            "Temperaturas (°C): [27.3 26.8 26.4 26.1 25.9 25.6 25.4 25.2 25.1 24.9 24.9 25.5 27.4 29.4\n",
            " 31.4 33.3 34.6 35.2 35.2 34.4 32.9 31.2 29.  27.8]\n",
            "GHI (W/m²): [  0.   0.   0.   0.   0.   0.   0.   0.   0.   0.   0.   0.  80. 297.\n",
            " 468. 607. 627. 490. 453. 454. 531. 305. 141.   0.]\n",
            "Potencia AC generada (W): [   0.          0.          0.          0.          0.          0.\n",
            "    0.          0.          0.          0.          0.          0.\n",
            "  248.39232   914.707728 1429.620192 1839.767226 1890.164232 1473.47508\n",
            " 1362.212676 1369.774296 1612.080954  932.46186   434.96244     0.      ]\n",
            "Potencia DC generada (W): [   0.         0.         0.         0.         0.         0.\n",
            "    0.         0.         0.         0.         0.         0.\n",
            "  261.4656   962.85024 1504.86336 1936.59708 1989.64656 1551.0264\n",
            " 1433.90808 1441.86768 1696.92732  981.5388   457.8552     0.     ]\n"
          ]
        }
      ]
    }
  ]
}