{
  "nbformat": 4,
  "nbformat_minor": 0,
  "metadata": {
    "colab": {
      "provenance": [],
      "authorship_tag": "ABX9TyMzHF+Pa/mEu7VBIc/1KV1K",
      "include_colab_link": true
    },
    "kernelspec": {
      "name": "python3",
      "display_name": "Python 3"
    },
    "language_info": {
      "name": "python"
    }
  },
  "cells": [
    {
      "cell_type": "markdown",
      "metadata": {
        "id": "view-in-github",
        "colab_type": "text"
      },
      "source": [
        "<a href=\"https://colab.research.google.com/github/santiagoIbarraM/Evaluaciones_python_aplicado_a_la_ingenieria/blob/main/EXAMEN_1.ipynb\" target=\"_parent\"><img src=\"https://colab.research.google.com/assets/colab-badge.svg\" alt=\"Open In Colab\"/></a>"
      ]
    },
    {
      "cell_type": "markdown",
      "source": [
        "Evaluacion 1\n",
        "Python aplicado a la ingenieria 202520\n",
        "\n",
        "Docente: Miguel Angel Ortiz\n",
        "\n",
        "Estudiante: Santiago Ibarra\n",
        "\n",
        "Correo: Santiago.ibarra@upb.edu.co\n",
        "\n",
        "Fecha: 30 de Junio del 2025\n",
        "\n"
      ],
      "metadata": {
        "id": "W_kOTM4f6C69"
      }
    },
    {
      "cell_type": "markdown",
      "source": [
        "\n",
        "\n",
        "## Punto 1:  \n",
        "Write a program that receives a sentence from the user and displays how many times each unique letter appears. Ignore spaces and make the comparison case-insensitive\n",
        "\n"
      ],
      "metadata": {
        "id": "Rb2vQORGXKC5"
      }
    },
    {
      "cell_type": "code",
      "source": [
        "#La frase utilizada para el ejemplo\n",
        "sentence = \"Hola mi nombre es Santiago\"\n",
        "#declaracion de diccionario vacio\n",
        "dict_word ={}\n",
        "#declaracion de lista vacia\n",
        "list_word =[]\n",
        "\n",
        "#hace que la frase este toda en minuscula\n",
        "sentence_lower=sentence.lower()\n",
        "\n",
        "#este bucle recorre la frase utilizando i como iterador\n",
        "for i in sentence_lower:\n",
        "  #este condicional se encarga de no tomar en cuenta los espacios\n",
        "  if  i != ' ':\n",
        "    #se llena el diccionario en cada iteracion, usando el iterador i como clave (la letra) y el numero de veces que aparece dicha letra en la frase como valor\n",
        "    dict_word[i]=sentence_lower.count(i)\n",
        "\n",
        "#este bucle se encarga de recorrer el diccionario creado\n",
        "for i in dict_word:\n",
        "  #Se imprime el valor del iterador i que es la clave del diccionario y se imprime dict_word[i] que es el valor de dicha clave\n",
        "  print(i,\" :\",dict_word[i])"
      ],
      "metadata": {
        "colab": {
          "base_uri": "https://localhost:8080/"
        },
        "id": "lX96g--VWrN8",
        "outputId": "4baa8efe-be65-432e-da80-f8d66dace668"
      },
      "execution_count": 6,
      "outputs": [
        {
          "output_type": "stream",
          "name": "stdout",
          "text": [
            "h  : 1\n",
            "o  : 3\n",
            "l  : 1\n",
            "a  : 3\n",
            "m  : 2\n",
            "i  : 2\n",
            "n  : 2\n",
            "b  : 1\n",
            "r  : 1\n",
            "e  : 2\n",
            "s  : 2\n",
            "t  : 1\n",
            "g  : 1\n"
          ]
        }
      ]
    },
    {
      "cell_type": "markdown",
      "source": [
        "# Punto 2:\n",
        "Write a program that receives a list of words and counts how many of them start with the same initial letter. Ignore case sensitivity"
      ],
      "metadata": {
        "id": "8QMNeNZ-CXFB"
      }
    },
    {
      "cell_type": "code",
      "source": [
        "#lista de palabras como ejemplo\n",
        "list_word = [\"Potato\", \"banana\", \"Onion\", \"Garlic\", \"blueberry\", \"pepper\", \"pineapple\"]\n",
        "\n",
        "#se crea una lista vacia para guardar las letras iniciales de cada palabra\n",
        "letter_list=[]\n",
        "\n",
        "#este bucle se encarga de recorrer la lista de palabras\n",
        "for i in list_word:\n",
        "  #esto agrega la letra inicial de cada palabra en minuscula a la lista vacia\n",
        "  letter_list.append(i[0].lower())\n",
        "\n",
        "#este bucle recorre la lista anterior, la cual es convertida en un set debido a que este elimina los valores repetidos\n",
        "for letter in set(letter_list):\n",
        "  #se imprime la letra de cada iteracion junto con el numero de veces que esta aparece en la lista de letras (numero de palabras que inician con esta letra)\n",
        "  print(letter, \":\", letter_list.count(letter))\n"
      ],
      "metadata": {
        "id": "ExEc3ENBFmjs",
        "colab": {
          "base_uri": "https://localhost:8080/"
        },
        "outputId": "7faea75b-ca0d-426b-fe07-ff49f8849ebd"
      },
      "execution_count": 7,
      "outputs": [
        {
          "output_type": "stream",
          "name": "stdout",
          "text": [
            "g : 1\n",
            "o : 1\n",
            "p : 3\n",
            "b : 2\n"
          ]
        }
      ]
    },
    {
      "cell_type": "markdown",
      "source": [
        "# Punto 3\n",
        "Write a program that receives a dictionary of products. Each product has a unique code as key, and its value is another dictionary containing a \"name\" and a \"price\". The program should display the name and price of the cheapest and the most expensive product.\n",
        "\n"
      ],
      "metadata": {
        "id": "W0w7HHYYFm0r"
      }
    },
    {
      "cell_type": "code",
      "source": [
        "#diccionario de elementos utilizado como ejemplo\n",
        "products ={\n",
        "    \"PO1\":{\"name\":\"USB Cable\",\"price\":12.5},\n",
        "    \"PO2\":{\"name\":\"HDMI Cable\",\"price\":8.0},\n",
        "    \"PO3\":{\"name\":\"Wireless Mouse\",\"price\":25.0},\n",
        "    \"PO4\":{\"name\":\"Mechanical Keyboard\",\"price\":220.0}\n",
        "}\n",
        "#se crea una lista vacia para los precios\n",
        "list_price=[]\n",
        "#se crea una lista vacia para los nombre de los objetos\n",
        "list_name=[]\n",
        "\n",
        "#este bucle comienza a recorrer el diccionario utilizando el iterador i\n",
        "for i in (products.values()):\n",
        "  #se agrega el nombre del elemento a la lista de nombre\n",
        "  list_name.append(i[\"name\"])\n",
        "  # se agrega el precio del elemento a la lista de precios\n",
        "  list_price.append(i[\"price\"])\n",
        "\n",
        "# se imprime el nombre y precio del elemento mas costoso utilizando max\n",
        "print(\"Most expensive: \",list_name[list_price.index(max(list_price))],\" -\",\"$\",max(list_price))\n",
        "# se imprime el nombre y precio del elemento mas barato utilizando min\n",
        "print(\"Cheapest: \",list_name[list_price.index(min(list_price))],\" -\",\"$\",min(list_price))"
      ],
      "metadata": {
        "id": "skxlxAUlF2q6",
        "colab": {
          "base_uri": "https://localhost:8080/"
        },
        "outputId": "a934b476-bb7b-4f6f-f6c7-9823414561eb"
      },
      "execution_count": 16,
      "outputs": [
        {
          "output_type": "stream",
          "name": "stdout",
          "text": [
            "Most expensive:  Mechanical Keyboard  - $ 220.0\n",
            "Cheapest:  HDMI Cable  - $ 8.0\n"
          ]
        }
      ]
    }
  ]
}